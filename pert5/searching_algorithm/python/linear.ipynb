{
 "cells": [
  {
   "cell_type": "code",
   "execution_count": 1,
   "id": "2a7de9c3",
   "metadata": {},
   "outputs": [
    {
     "name": "stdout",
     "output_type": "stream",
     "text": [
      "found di index ke - : 3\n"
     ]
    }
   ],
   "source": [
    "def ls(arr, target):\n",
    "    for i in range(len(arr)):\n",
    "        if arr[i] == target :\n",
    "            return i\n",
    "    return -1\n",
    "\n",
    "data = [1,3,7,5]\n",
    "target = 5\n",
    "result = ls(data, target)\n",
    "if result == -1:\n",
    "    print(\"not found\")\n",
    "else:\n",
    "    print(f\"found di index ke - : {result}\")"
   ]
  }
 ],
 "metadata": {
  "kernelspec": {
   "display_name": ".venv",
   "language": "python",
   "name": "python3"
  },
  "language_info": {
   "codemirror_mode": {
    "name": "ipython",
    "version": 3
   },
   "file_extension": ".py",
   "mimetype": "text/x-python",
   "name": "python",
   "nbconvert_exporter": "python",
   "pygments_lexer": "ipython3",
   "version": "3.12.3"
  }
 },
 "nbformat": 4,
 "nbformat_minor": 5
}
