{
 "cells": [
  {
   "cell_type": "code",
   "execution_count": 1,
   "id": "26110cea",
   "metadata": {},
   "outputs": [
    {
     "name": "stdout",
     "output_type": "stream",
     "text": [
      "found di indeks ke -  1\n"
     ]
    }
   ],
   "source": [
    "def bs(arr, target):\n",
    "    left,right = 0, len(arr)-1\n",
    "    while left <= right :\n",
    "        mid = left + (right-left)//2\n",
    "        if arr[mid] == target: \n",
    "            return mid\n",
    "        elif arr[mid] < target:\n",
    "            left = mid + 1\n",
    "        else:\n",
    "            right = mid - 1\n",
    "    return -1\n",
    "\n",
    "data = [1,3,7,5]\n",
    "target = 3\n",
    "\n",
    "result = bs(data,target)\n",
    "if result == -1:\n",
    "    print(\"not found\")\n",
    "else:\n",
    "    print(f\"found di indeks ke -  {result}\")\n"
   ]
  }
 ],
 "metadata": {
  "kernelspec": {
   "display_name": ".venv",
   "language": "python",
   "name": "python3"
  },
  "language_info": {
   "codemirror_mode": {
    "name": "ipython",
    "version": 3
   },
   "file_extension": ".py",
   "mimetype": "text/x-python",
   "name": "python",
   "nbconvert_exporter": "python",
   "pygments_lexer": "ipython3",
   "version": "3.12.3"
  }
 },
 "nbformat": 4,
 "nbformat_minor": 5
}
