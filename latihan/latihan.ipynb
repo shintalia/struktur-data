{
 "cells": [
  {
   "cell_type": "code",
   "execution_count": 1,
   "id": "0c3f4100",
   "metadata": {},
   "outputs": [
    {
     "name": "stdout",
     "output_type": "stream",
     "text": [
      "Hasil: 2\n"
     ]
    }
   ],
   "source": [
    "def custom_expression():\n",
    "    return 2  \n",
    "\n",
    "hasil = custom_expression()\n",
    "print(\"Hasil:\", hasil)"
   ]
  },
  {
   "cell_type": "code",
   "execution_count": 2,
   "id": "685d666e",
   "metadata": {},
   "outputs": [
    {
     "name": "stdout",
     "output_type": "stream",
     "text": [
      "Hasil: 2\n"
     ]
    }
   ],
   "source": [
    "a = 1\n",
    "b = 1\n",
    "c = 3\n",
    "\n",
    "hasil = a + b - c + 3\n",
    "print(\"Hasil:\", hasil)"
   ]
  },
  {
   "cell_type": "code",
   "execution_count": 20,
   "id": "cab3b89b",
   "metadata": {},
   "outputs": [
    {
     "name": "stdout",
     "output_type": "stream",
     "text": [
      "NAMA: deshinta Pracilia\n",
      "NIM : 20240801134\n",
      "FAKULTAS: ilmu komputer\n",
      "PRODI: teknik informatika\n",
      "Matkul: struktur data\n"
     ]
    }
   ],
   "source": [
    "nama = \"deshinta Pracilia\"\n",
    "nim = \"20240801134\"\n",
    "fakultas = \"ilmu komputer\"\n",
    "prodi = \"teknik informatika\"\n",
    "matkul = \"struktur data\"\n",
    "\n",
    "\n",
    "print(\"NAMA:\", nama)\n",
    "print(\"NIM :\", nim)\n",
    "print(\"FAKULTAS:\", fakultas)\n",
    "print(\"PRODI:\", prodi)\n",
    "print(\"Matkul:\", matkul)\n"
   ]
  },
  {
   "cell_type": "code",
   "execution_count": 5,
   "id": "d82104ae",
   "metadata": {},
   "outputs": [
    {
     "name": "stdout",
     "output_type": "stream",
     "text": [
      "Hasil dari 10 + 10 * 100 ÷ 50 adalah: 30.0\n"
     ]
    }
   ],
   "source": [
    "bilangan = 10 + 10 * 100 / 50\n",
    "print(\"Hasil dari 10 + 10 * 100 ÷ 50 adalah:\", bilangan)"
   ]
  },
  {
   "cell_type": "code",
   "execution_count": 102,
   "id": "53829fb1",
   "metadata": {},
   "outputs": [
    {
     "name": "stdout",
     "output_type": "stream",
     "text": [
      "lagu playlist shinta\n",
      "Lagu   : Where We Are\n",
      "Penyanyi: One Direction\n",
      "\n",
      "Lirik:\n",
      "\n",
      "Is it all inside of my heaedd?\n",
      "Maybe you still think I don't careee\n",
      "But all I need is you\n",
      "Yeah, you know it's true, yeah, you know it's true\n",
      "Forget about where wee are and let gooooo\n",
      "We're sooo clooseee\n",
      "If you don't know where tooo startt\n",
      "Just hold onn and don't ruuuuuuuunnnnnn, nooooo\n",
      "We're looking back, we messed arounndd\n",
      "But that was then and this is now\n",
      "All we need is enough loveeeee tooooo hoolldd uuussss\n",
      "Where we areeeeee🎵🎵🎵🎵🎵🎵🎵🎵🎵🎵🎵🎵🎵🎵🎵🎵🎵🎵🎵🎵🎵🎵🎵🎵\n",
      "Summer days rushin' by, you and me\n",
      "Makes it harder to see underneath\n",
      "Did we ever know? Did we ever know?\n",
      "Did we ever know? [Did we ever know?]\n",
      "Is it all inside of my head?\n",
      "Maybe you still think I don't care\n",
      "But all I need is you\n",
      "Yeah, you know it's true, yeah, you know it's true\n",
      "Forget about where we are and let gooo\n",
      "We're soo cloosseee\n",
      "If you don't know where tooo staarrttt\n",
      "Just hold onn and don't ruuuuuuuunnnnnn, nooooo\n",
      "We're looking back, we messed arounndd\n",
      "But that was then and this is now\n",
      "AAll we need is enough loveeeee tooooo hoolldd uuussss\n",
      "Where we arrrreeeeeeeeeeeeeeeeeeeeeeeeeee\n"
     ]
    }
   ],
   "source": [
    "import time\n",
    "\n",
    "\"laguplaylistshinta\"\n",
    "judul = \"Where We Are\"\n",
    "penyanyi = \"One Direction\"\n",
    "\n",
    "lirik = [\n",
    "    \n",
    "    \"Is it all inside of my heaedd?\",\n",
    "    \"Maybe you still think I don't careee\",\n",
    "    \"But all I need is you\",\n",
    "    \"Yeah, you know it's true, yeah, you know it's true\",\n",
    "   \n",
    "    \"Forget about where wee are and let gooooo\",\n",
    "    \"We're sooo clooseee\",\n",
    "    \"If you don't know where tooo startt\",\n",
    "    \"Just hold onn and don't ruuuuuuuunnnnnn, nooooo\",\n",
    "    \"We're looking back, we messed arounndd\",\n",
    "    \"But that was then and this is now\",\n",
    "    \"All we need is enough loveeeee tooooo hoolldd uuussss\",\n",
    "    \"Where we areeeeee\"    \"🎵🎵🎵🎵🎵🎵🎵🎵🎵🎵🎵🎵🎵🎵🎵🎵🎵🎵🎵🎵🎵🎵🎵🎵\",\n",
    "\n",
    "    \"Summer days rushin' by, you and me\",\n",
    "    \"Makes it harder to see underneath\",\n",
    "    \"Did we ever know? Did we ever know?\",\n",
    "    \"Did we ever know? [Did we ever know?]\",\n",
    "    \n",
    "    \"Is it all inside of my head?\",\n",
    "    \"Maybe you still think I don't care\",\n",
    "    \"But all I need is you\",\n",
    "    \"Yeah, you know it's true, yeah, you know it's true\",\n",
    "   \n",
    "    \"Forget about where we are and let gooo\",\n",
    "    \"We're soo cloosseee\",\n",
    "    \"If you don't know where tooo staarrttt\",\n",
    "    \"Just hold onn and don't ruuuuuuuunnnnnn, nooooo\",\n",
    "    \"We're looking back, we messed arounndd\",\n",
    "    \"But that was then and this is now\",\n",
    "    \"AAll we need is enough loveeeee tooooo hoolldd uuussss\",\n",
    "    \"Where we arrrreeeeeeeeeeeeeeeeeeeeeeeeeee\",\n",
    "\n",
    "]\n",
    "\n",
    "print(\"lagu playlist shinta\")\n",
    "print(f\"Lagu   : {judul}\")\n",
    "print(f\"Penyanyi: {penyanyi}\\n\")\n",
    "print(\"Lirik:\\n\")\n",
    "\n",
    "for baris in lirik:\n",
    "    for huruf in baris:\n",
    "        print(huruf, end='', flush=True)\n",
    "        time.sleep(0.11)\n",
    "    print()\n",
    "    time.sleep(0.050)\n"
   ]
  },
  {
   "cell_type": "code",
   "execution_count": 2,
   "id": "6f74c1f5",
   "metadata": {},
   "outputs": [
    {
     "name": "stdout",
     "output_type": "stream",
     "text": [
      "a + b = 30\n"
     ]
    }
   ],
   "source": [
    "a = \"10\"\n",
    "b = \"20\"\n",
    "operasi=\"a + b = 30\"\n",
    "print(operasi)"
   ]
  },
  {
   "cell_type": "code",
   "execution_count": null,
   "id": "062a47e4",
   "metadata": {},
   "outputs": [],
   "source": []
  }
 ],
 "metadata": {
  "kernelspec": {
   "display_name": ".venv",
   "language": "python",
   "name": "python3"
  },
  "language_info": {
   "codemirror_mode": {
    "name": "ipython",
    "version": 3
   },
   "file_extension": ".py",
   "mimetype": "text/x-python",
   "name": "python",
   "nbconvert_exporter": "python",
   "pygments_lexer": "ipython3",
   "version": "3.12.3"
  }
 },
 "nbformat": 4,
 "nbformat_minor": 5
}
