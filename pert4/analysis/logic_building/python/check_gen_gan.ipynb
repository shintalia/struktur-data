{
 "cells": [
  {
   "cell_type": "code",
   "execution_count": 1,
   "id": "4839c2cb",
   "metadata": {},
   "outputs": [
    {
     "name": "stdout",
     "output_type": "stream",
     "text": [
      "false\n"
     ]
    }
   ],
   "source": [
    "def isEven(n):\n",
    "    if n == (n>>1) << 1:\n",
    "        return True\n",
    "    else: \n",
    "        return False\n",
    "\n",
    "n = 5\n",
    "if isEven(n):\n",
    "    print(\"true\")\n",
    "else: \n",
    "    print (\"false\")"
   ]
  }
 ],
 "metadata": {
  "kernelspec": {
   "display_name": ".venv",
   "language": "python",
   "name": "python3"
  },
  "language_info": {
   "codemirror_mode": {
    "name": "ipython",
    "version": 3
   },
   "file_extension": ".py",
   "mimetype": "text/x-python",
   "name": "python",
   "nbconvert_exporter": "python",
   "pygments_lexer": "ipython3",
   "version": "3.12.3"
  }
 },
 "nbformat": 4,
 "nbformat_minor": 5
}
