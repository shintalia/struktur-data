{
 "cells": [
  {
   "cell_type": "code",
   "execution_count": 2,
   "id": "4d20afd5",
   "metadata": {},
   "outputs": [
    {
     "name": "stdout",
     "output_type": "stream",
     "text": [
      "password has been set\n",
      "correct\n"
     ]
    }
   ],
   "source": [
    "class PwdMan:\n",
    "    def __init__(self):\n",
    "        self.storedHash = None\n",
    "    \n",
    "    def simple_hash(self, password):\n",
    "        hash_value = 0\n",
    "        for ch in password :\n",
    "            hash_value += ord(ch)\n",
    "        return hash_value % 100\n",
    "    \n",
    "    def set_password(self, password):\n",
    "        self.storedHash = self.simple_hash(password)\n",
    "        print(\"password has been set\")\n",
    "\n",
    "    def verify_password(self, input_password):\n",
    "        return self.storedHash == self.simple_hash(input_password)\n",
    "    \n",
    "Pass_Man = PwdMan()\n",
    "password = input(\"enter password : \")\n",
    "Pass_Man.set_password(password)\n",
    "\n",
    "input_password = input(\"enter password to verify : \")\n",
    "if Pass_Man.verify_password(input_password):\n",
    "    print(\"correct\")\n",
    "else:\n",
    "    print(\"incorrect\")"
   ]
  }
 ],
 "metadata": {
  "kernelspec": {
   "display_name": ".venv",
   "language": "python",
   "name": "python3"
  },
  "language_info": {
   "codemirror_mode": {
    "name": "ipython",
    "version": 3
   },
   "file_extension": ".py",
   "mimetype": "text/x-python",
   "name": "python",
   "nbconvert_exporter": "python",
   "pygments_lexer": "ipython3",
   "version": "3.12.3"
  }
 },
 "nbformat": 4,
 "nbformat_minor": 5
}
