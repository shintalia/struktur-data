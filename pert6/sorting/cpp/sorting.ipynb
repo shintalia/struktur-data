{
 "cells": [
  {
   "cell_type": "code",
   "execution_count": 1,
   "id": "1ce5e12f",
   "metadata": {},
   "outputs": [
    {
     "name": "stdout",
     "output_type": "stream",
     "text": [
      "Data :  [1, 2, 5, 4, 3, 7]\n",
      "selection sort  [1, 2, 3, 4, 5, 7]\n",
      "bubble sort:  [1, 2, 3, 4, 5, 7]\n"
     ]
    }
   ],
   "source": [
    "def selection_sort(arr):\n",
    "    n = len(arr)\n",
    "    for i in range(n-1):\n",
    "        minIndex = i\n",
    "        for j in range(i + 1, n):\n",
    "            if arr[j] < arr[minIndex]:\n",
    "                minIndex = j\n",
    "        if minIndex != i:\n",
    "            arr[i], arr[minIndex] = arr[minIndex], arr[i]\n",
    "\n",
    "def bubble_sort(arr):\n",
    "    n = len(arr)\n",
    "    for i in range(n -1):\n",
    "        for j in range(n - 1 - i):\n",
    "            if arr[j] > arr[j + 1]:\n",
    "                arr[j], arr[j + 1] = arr[j + 1], arr[j]\n",
    "\n",
    "data = [1,2,5,4,3,7]\n",
    "print(\"Data : \", data)\n",
    "## SELECTION SORT\n",
    "ss = data.copy()\n",
    "selection_sort(ss)\n",
    "print (\"selection sort \", ss)\n",
    "\n",
    "## BUBBLE SORT\n",
    "bs = data.copy()\n",
    "bubble_sort(bs)\n",
    "print(\"bubble sort: \", bs)"
   ]
  }
 ],
 "metadata": {
  "kernelspec": {
   "display_name": ".venv",
   "language": "python",
   "name": "python3"
  },
  "language_info": {
   "codemirror_mode": {
    "name": "ipython",
    "version": 3
   },
   "file_extension": ".py",
   "mimetype": "text/x-python",
   "name": "python",
   "nbconvert_exporter": "python",
   "pygments_lexer": "ipython3",
   "version": "3.12.3"
  }
 },
 "nbformat": 4,
 "nbformat_minor": 5
}
